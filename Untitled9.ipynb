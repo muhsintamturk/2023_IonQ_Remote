{
  "nbformat": 4,
  "nbformat_minor": 0,
  "metadata": {
    "colab": {
      "provenance": [],
      "authorship_tag": "ABX9TyM266Kk79h8KuL48j0NWj9f",
      "include_colab_link": true
    },
    "kernelspec": {
      "name": "python3",
      "display_name": "Python 3"
    },
    "language_info": {
      "name": "python"
    }
  },
  "cells": [
    {
      "cell_type": "markdown",
      "metadata": {
        "id": "view-in-github",
        "colab_type": "text"
      },
      "source": [
        "<a href=\"https://colab.research.google.com/github/muhsintamturk/2023_IonQ_Remote/blob/main/Untitled9.ipynb\" target=\"_parent\"><img src=\"https://colab.research.google.com/assets/colab-badge.svg\" alt=\"Open In Colab\"/></a>"
      ]
    },
    {
      "cell_type": "code",
      "source": [
        "!pip install matplotlib\n",
        "%matplotlib inline\n",
        "\n",
        "import matplotlib"
      ],
      "metadata": {
        "colab": {
          "base_uri": "https://localhost:8080/"
        },
        "id": "ogc7rIbj1zvJ",
        "outputId": "9aacef36-067e-4e32-a080-c040fec0042f"
      },
      "execution_count": 4,
      "outputs": [
        {
          "output_type": "stream",
          "name": "stdout",
          "text": [
            "Requirement already satisfied: matplotlib in /usr/local/lib/python3.10/dist-packages (3.8.0)\n",
            "Requirement already satisfied: contourpy>=1.0.1 in /usr/local/lib/python3.10/dist-packages (from matplotlib) (1.3.1)\n",
            "Requirement already satisfied: cycler>=0.10 in /usr/local/lib/python3.10/dist-packages (from matplotlib) (0.12.1)\n",
            "Requirement already satisfied: fonttools>=4.22.0 in /usr/local/lib/python3.10/dist-packages (from matplotlib) (4.55.3)\n",
            "Requirement already satisfied: kiwisolver>=1.0.1 in /usr/local/lib/python3.10/dist-packages (from matplotlib) (1.4.7)\n",
            "Requirement already satisfied: numpy<2,>=1.21 in /usr/local/lib/python3.10/dist-packages (from matplotlib) (1.26.4)\n",
            "Requirement already satisfied: packaging>=20.0 in /usr/local/lib/python3.10/dist-packages (from matplotlib) (24.2)\n",
            "Requirement already satisfied: pillow>=6.2.0 in /usr/local/lib/python3.10/dist-packages (from matplotlib) (11.0.0)\n",
            "Requirement already satisfied: pyparsing>=2.3.1 in /usr/local/lib/python3.10/dist-packages (from matplotlib) (3.2.0)\n",
            "Requirement already satisfied: python-dateutil>=2.7 in /usr/local/lib/python3.10/dist-packages (from matplotlib) (2.8.2)\n",
            "Requirement already satisfied: six>=1.5 in /usr/local/lib/python3.10/dist-packages (from python-dateutil>=2.7->matplotlib) (1.17.0)\n"
          ]
        }
      ]
    },
    {
      "cell_type": "code",
      "execution_count": 5,
      "metadata": {
        "colab": {
          "base_uri": "https://localhost:8080/"
        },
        "id": "dAzFSQLw1tS4",
        "outputId": "db8d6916-e6af-4aec-b7cd-adfaa699005e"
      },
      "outputs": [
        {
          "output_type": "stream",
          "name": "stdout",
          "text": [
            "Requirement already satisfied: pennylane in /usr/local/lib/python3.10/dist-packages (0.39.0)\n",
            "Requirement already satisfied: numpy<2.1 in /usr/local/lib/python3.10/dist-packages (from pennylane) (1.26.4)\n",
            "Requirement already satisfied: scipy in /usr/local/lib/python3.10/dist-packages (from pennylane) (1.13.1)\n",
            "Requirement already satisfied: networkx in /usr/local/lib/python3.10/dist-packages (from pennylane) (3.4.2)\n",
            "Requirement already satisfied: rustworkx>=0.14.0 in /usr/local/lib/python3.10/dist-packages (from pennylane) (0.15.1)\n",
            "Requirement already satisfied: autograd in /usr/local/lib/python3.10/dist-packages (from pennylane) (1.7.0)\n",
            "Requirement already satisfied: toml in /usr/local/lib/python3.10/dist-packages (from pennylane) (0.10.2)\n",
            "Requirement already satisfied: appdirs in /usr/local/lib/python3.10/dist-packages (from pennylane) (1.4.4)\n",
            "Requirement already satisfied: autoray>=0.6.11 in /usr/local/lib/python3.10/dist-packages (from pennylane) (0.7.0)\n",
            "Requirement already satisfied: cachetools in /usr/local/lib/python3.10/dist-packages (from pennylane) (5.5.0)\n",
            "Requirement already satisfied: pennylane-lightning>=0.39 in /usr/local/lib/python3.10/dist-packages (from pennylane) (0.39.0)\n",
            "Requirement already satisfied: requests in /usr/local/lib/python3.10/dist-packages (from pennylane) (2.32.3)\n",
            "Requirement already satisfied: typing-extensions in /usr/local/lib/python3.10/dist-packages (from pennylane) (4.12.2)\n",
            "Requirement already satisfied: packaging in /usr/local/lib/python3.10/dist-packages (from pennylane) (24.2)\n",
            "Requirement already satisfied: charset-normalizer<4,>=2 in /usr/local/lib/python3.10/dist-packages (from requests->pennylane) (3.4.0)\n",
            "Requirement already satisfied: idna<4,>=2.5 in /usr/local/lib/python3.10/dist-packages (from requests->pennylane) (3.10)\n",
            "Requirement already satisfied: urllib3<3,>=1.21.1 in /usr/local/lib/python3.10/dist-packages (from requests->pennylane) (2.2.3)\n",
            "Requirement already satisfied: certifi>=2017.4.17 in /usr/local/lib/python3.10/dist-packages (from requests->pennylane) (2024.12.14)\n"
          ]
        }
      ],
      "source": [
        "!pip install pennylane"
      ]
    },
    {
      "cell_type": "code",
      "source": [
        "import pennylane as qml\n",
        "from pennylane import numpy as np\n",
        "\n",
        "np.random.seed(17)"
      ],
      "metadata": {
        "id": "lCxxDbT61vhv"
      },
      "execution_count": 6,
      "outputs": []
    },
    {
      "cell_type": "code",
      "source": [
        "n_wires = 5\n",
        "P=3 #Penalty\n",
        "wts=[3,3,3,3,3,3] #weights\n",
        "#graph=[(0, 1), (1, 2), (2, 0), (2, 3),(3,4)]\n",
        "graph=[(3, 1), (1, 2), (2, 0), (2, 3),(3,4),(1,4)]\n",
        "# unitary operator U_B with parameter beta\n",
        "def U_B(beta):\n",
        "    for wire in range(n_wires):\n",
        "        qml.RX(2 * beta, wires=wire)\n",
        "\n",
        "\n",
        "# unitary operator U_C with parameter gamma\n",
        "def U_C(gamma):\n",
        "    for edge in graph:\n",
        "        wire1 = edge[0]\n",
        "        wire2 = edge[1]\n",
        "        qml.IsingZZ(gamma*P/2,wires=[wire1, wire2]) #note addition division by two will be added internally\n",
        "        qml.RZ(gamma*P/2, wires=wire2)\n",
        "        qml.RZ(gamma*P/2, wires=wire1)\n",
        "    for wire in range(n_wires):\n",
        "        qml.RZ(-gamma*wts[wire],wires=wire)"
      ],
      "metadata": {
        "id": "efWQ4sJXSugM"
      },
      "execution_count": 39,
      "outputs": []
    },
    {
      "cell_type": "code",
      "source": [
        "def bitstring_to_int(bit_string_sample):\n",
        "    bit_string = \"\".join(str(bs) for bs in bit_string_sample)\n",
        "    return int(bit_string, base=2)"
      ],
      "metadata": {
        "id": "nj5O2CebS57z"
      },
      "execution_count": 32,
      "outputs": []
    },
    {
      "cell_type": "code",
      "source": [
        "dev1 = qml.device(\"lightning.qubit\", wires=n_wires, shots=1000)\n",
        "dev2 = qml.device(\"lightning.qubit\", wires=n_wires, shots=1)"
      ],
      "metadata": {
        "id": "--ZIe2i1S-ey"
      },
      "execution_count": 33,
      "outputs": []
    },
    {
      "cell_type": "code",
      "source": [
        "@qml.qnode(dev1)\n",
        "def circuit1(gammas, betas, edge=None, n_layers=1):\n",
        "    # apply Hadamards to get the n qubit |+> state\n",
        "    for wire in range(n_wires):\n",
        "        qml.Hadamard(wires=wire)\n",
        "    # p instances of unitary operators\n",
        "    for i in range(n_layers):\n",
        "        U_C(gammas[i])\n",
        "        U_B(betas[i])\n",
        "    if edge is None:\n",
        "        # measurement phase\n",
        "        return qml.sample()\n",
        "    # during the optimization phase we are evaluating a term\n",
        "    # in the objective using expval\n",
        "    H = qml.PauliZ(edge[0]) @ qml.PauliZ(edge[1])\n",
        "    return qml.expval(H)"
      ],
      "metadata": {
        "id": "pJVCMKvYTA5r"
      },
      "execution_count": 34,
      "outputs": []
    },
    {
      "cell_type": "code",
      "source": [
        "@qml.qnode(dev2)\n",
        "def circuit1s(gammas, betas, edge=None, n_layers=1):\n",
        "    # apply Hadamards to get the n qubit |+> state\n",
        "    for wire in range(n_wires):\n",
        "        qml.Hadamard(wires=wire)\n",
        "    # p instances of unitary operators\n",
        "    for i in range(n_layers):\n",
        "        U_C(gammas[i])\n",
        "        U_B(betas[i])\n",
        "    if edge is None:\n",
        "        # measurement phase\n",
        "        return qml.sample()\n",
        "    # during the optimization phase we are evaluating a term\n",
        "    # in the objective using expval\n",
        "    H = qml.PauliZ(edge[0]) @ qml.PauliZ(edge[1])\n",
        "    return qml.expval(H)"
      ],
      "metadata": {
        "id": "KY1Yhzd3TDN4"
      },
      "execution_count": 35,
      "outputs": []
    },
    {
      "cell_type": "code",
      "source": [
        "@qml.qnode(dev1)\n",
        "def circuit2(gammas, betas, wirep=None, n_layers=1):\n",
        "    # apply Hadamards to get the n qubit |+> state\n",
        "    for wire in range(n_wires):\n",
        "        qml.Hadamard(wires=wire)\n",
        "    # p instances of unitary operators\n",
        "    for i in range(n_layers):\n",
        "        U_C(gammas[i])\n",
        "        U_B(betas[i])\n",
        "    # this function is only used during the optimization phase (no sampling)\n",
        "    # in the objective using expval\n",
        "    H = qml.PauliZ(wirep)\n",
        "    return qml.expval(H)"
      ],
      "metadata": {
        "id": "VQiFsHazTFKp"
      },
      "execution_count": 36,
      "outputs": []
    },
    {
      "cell_type": "code",
      "source": [
        "def qaoa_mvc(n_layers=1):\n",
        "    print(\"\\np={:d}\".format(n_layers))\n",
        "\n",
        "    # initialize the parameters near zero\n",
        "    init_params =  np.random.rand(2, n_layers, requires_grad=True)\n",
        "    #init_params = np.array([[0.3, 0.8],[0.1, 0.95]], requires_grad=True)\n",
        "\n",
        "    print(init_params)\n",
        "\n",
        "    # minimize the negative of the objective function\n",
        "    def objective(params):\n",
        "        gammas = params[0]\n",
        "        betas = params[1]\n",
        "        obj1 = 0\n",
        "        obj2 = 0\n",
        "        for edge in graph:\n",
        "            # objective for the MaxCut problem\n",
        "            obj1 += 0.25*P*circuit1(gammas, betas, edge=edge, n_layers=n_layers)\n",
        "            obj1 += 0.25*P*circuit2(gammas, betas, wirep=edge[0], n_layers=n_layers)\n",
        "            obj1 += 0.25*P*circuit2(gammas, betas, wirep=edge[1], n_layers=n_layers)\n",
        "        for wire in range(n_wires):\n",
        "            obj2 += -0.5*wts[wire]*circuit2(gammas, betas, wirep=wire, n_layers=n_layers)\n",
        "        return obj1+obj2\n",
        "\n",
        "    # initialize optimizer: Adagrad works well empirically  (AdagradOptimizer)\n",
        "    opt = qml.GradientDescentOptimizer()\n",
        "\n",
        "    # optimize parameters in objective\n",
        "    params = init_params\n",
        "    steps = 100\n",
        "    for i in range(steps):\n",
        "        params = opt.step(objective, params)\n",
        "        if (i + 1) % 5 == 0:\n",
        "            print(\"Objective after step {:4d}: {: .7f}\".format(i + 1, objective(params)))\n",
        "\n",
        "    # sample measured bitstrings 100 times\n",
        "    bit_strings = []\n",
        "    n_samples = 1000\n",
        "    for i in range(0, n_samples):\n",
        "        bit_strings.append(bitstring_to_int(circuit1s(params[0], params[1], edge=None, n_layers=n_layers)))\n",
        "\n",
        "\n",
        "    # print optimal parameters and most frequently sampled bitstring\n",
        "    counts = np.bincount(np.array(bit_strings))\n",
        "    most_freq_bit_string = np.argmax(counts)\n",
        "    print(\"Optimized (gamma, beta) vectors:\\n{}\".format(params[:, :n_layers]))\n",
        "    print(\"Most frequently sampled bit string is: {:04b}\".format(most_freq_bit_string))\n",
        "\n",
        "    return objective(params), bit_strings"
      ],
      "metadata": {
        "id": "7selnRJwTG6_"
      },
      "execution_count": 37,
      "outputs": []
    },
    {
      "cell_type": "code",
      "source": [
        "# perform qaoa on our graph with p=1,2 and\n",
        "# keep the bitstring sample lists\n",
        "\n",
        "#bitstrings1 = qaoa_mvc(n_layers=1)[1]\n",
        "#bitstrings2 = qaoa_mvc(n_layers=2)[1]\n",
        "#bitstrings3 = qaoa_mvc(n_layers=3)[1]\n",
        "bitstrings4 = qaoa_mvc(n_layers=4)[1]"
      ],
      "metadata": {
        "colab": {
          "base_uri": "https://localhost:8080/"
        },
        "id": "WUJ_8fPdTJvN",
        "outputId": "34d7b341-ff98-4c43-abc8-0a71567a7904"
      },
      "execution_count": 40,
      "outputs": [
        {
          "output_type": "stream",
          "name": "stdout",
          "text": [
            "\n",
            "p=4\n",
            "[[0.78138444 0.50273804 0.05941983 0.22562298]\n",
            " [0.95730274 0.16465241 0.35612529 0.97675126]]\n",
            "Objective after step    5: -1.0365000\n",
            "Objective after step   10: -1.2435000\n",
            "Objective after step   15: -1.6065000\n",
            "Objective after step   20: -1.5300000\n",
            "Objective after step   25: -1.7790000\n",
            "Objective after step   30: -2.0205000\n",
            "Objective after step   35: -2.2875000\n",
            "Objective after step   40: -2.0295000\n",
            "Objective after step   45: -1.9305000\n",
            "Objective after step   50: -1.8870000\n",
            "Objective after step   55: -2.2755000\n",
            "Objective after step   60: -2.1465000\n",
            "Objective after step   65: -2.1150000\n",
            "Objective after step   70: -2.0805000\n",
            "Objective after step   75: -2.2455000\n",
            "Objective after step   80: -1.9215000\n",
            "Objective after step   85: -1.9335000\n",
            "Objective after step   90: -1.9725000\n",
            "Objective after step   95: -2.1240000\n",
            "Objective after step  100: -2.1165000\n",
            "Optimized (gamma, beta) vectors:\n",
            "[[ 0.34179069  0.38326304  0.04123983 -0.10949202]\n",
            " [ 1.23972274  0.14200241  0.36811029  0.93092626]]\n",
            "Most frequently sampled bit string is: 11010\n"
          ]
        }
      ]
    },
    {
      "cell_type": "code",
      "source": [],
      "metadata": {
        "id": "4VeiyHmDTPpf"
      },
      "execution_count": null,
      "outputs": []
    }
  ]
}